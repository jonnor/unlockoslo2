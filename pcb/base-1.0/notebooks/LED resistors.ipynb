{
 "cells": [
  {
   "cell_type": "code",
   "execution_count": 1,
   "metadata": {},
   "outputs": [],
   "source": [
    "import ee\n",
    "from ee import EeVal\n",
    "from ee.formatting import e6, e12, e24"
   ]
  },
  {
   "cell_type": "markdown",
   "metadata": {},
   "source": [
    "# LED resistors\n",
    "\n",
    "$$\n",
    "\\begin{align}\n",
    "U &= R*I\\\\\n",
    "R &= U/I\\\\\n",
    "\\\\\n",
    "V_r &= V_{in} - V_{forward} \\\\\n",
    "R_{exact} &= V_r / I_{target} \\\\\n",
    "\\end{align}\n",
    "$$"
   ]
  },
  {
   "cell_type": "code",
   "execution_count": 11,
   "metadata": {},
   "outputs": [],
   "source": [
    "#Vin = 3.3\n",
    "#Vf = 2.00\n",
    "#Itarget = 10/1000\n",
    "\n",
    "#Vr = Vin - Vf\n",
    "#Rexact = Vr/Itarget\n",
    "\n",
    "def led_resistor(Vin, Vf, Itarget, series):\n",
    "    Vr = Vin - Vf\n",
    "    Rexact = Vr / Itarget\n",
    "\n",
    "    R = series.closest(Rexact)\n",
    "    Ir = Vr/R\n",
    "    \n",
    "    return {\"Vin\":Vin, \"Itarget\":Itarget, \"Rexact\": Rexact, \"R\": round(R), \"I\": round(Ir*1000)}\n",
    "\n",
    "l1 = led_resistor(Vin=3.3, Vf=2.05, Itarget=0.01, series=e24)"
   ]
  },
  {
   "cell_type": "code",
   "execution_count": 12,
   "metadata": {},
   "outputs": [
    {
     "data": {
      "text/plain": [
       "{'Vin': 3.3, 'Itarget': 0.01, 'Rexact': 125.0, 'R': 120, 'I': 10}"
      ]
     },
     "execution_count": 12,
     "metadata": {},
     "output_type": "execute_result"
    }
   ],
   "source": [
    "l1"
   ]
  },
  {
   "cell_type": "markdown",
   "metadata": {
    "variables": {
     " l = l1 ": {},
     " l[\"I\"] ": "10",
     " l[\"R\"] ": "120"
    }
   },
   "source": [
    "{{ l = l1 }} LED 1<br/>\n",
    "R = {{ l[\"R\"] }} Ω<br/>\n",
    "Ir = {{ l[\"I\"] }} mA <br/>"
   ]
  }
 ],
 "metadata": {
  "kernelspec": {
   "display_name": "Python 3",
   "language": "python",
   "name": "python3"
  },
  "language_info": {
   "codemirror_mode": {
    "name": "ipython",
    "version": 3
   },
   "file_extension": ".py",
   "mimetype": "text/x-python",
   "name": "python",
   "nbconvert_exporter": "python",
   "pygments_lexer": "ipython3",
   "version": "3.7.3"
  }
 },
 "nbformat": 4,
 "nbformat_minor": 2
}
